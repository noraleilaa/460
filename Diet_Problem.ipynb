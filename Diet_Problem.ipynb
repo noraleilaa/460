{
  "nbformat": 4,
  "nbformat_minor": 0,
  "metadata": {
    "colab": {
      "provenance": []
    },
    "kernelspec": {
      "name": "python3",
      "display_name": "Python 3"
    },
    "language_info": {
      "name": "python"
    }
  },
  "cells": [
    {
      "cell_type": "code",
      "execution_count": 1,
      "metadata": {
        "colab": {
          "base_uri": "https://localhost:8080/"
        },
        "id": "8dW3Ac3oB6cW",
        "outputId": "4eb29386-2d4d-4941-c525-129ff9c2ec7a"
      },
      "outputs": [
        {
          "output_type": "stream",
          "name": "stdout",
          "text": [
            "Requirement already satisfied: pulp in /usr/local/lib/python3.10/dist-packages (2.7.0)\n"
          ]
        }
      ],
      "source": [
        "!pip install pulp\n",
        "from pulp import *\n",
        "import matplotlib.pyplot as plt\n"
      ]
    },
    {
      "cell_type": "code",
      "source": [
        "from PIL import Image"
      ],
      "metadata": {
        "id": "EbylclijKvUt"
      },
      "execution_count": 2,
      "outputs": []
    },
    {
      "cell_type": "markdown",
      "source": [
        "# Constraints\n"
      ],
      "metadata": {
        "id": "vI6J978aIhiq"
      }
    },
    {
      "cell_type": "code",
      "source": [
        "\"\"\"\n",
        "Component                    Max/Min                              Amount and measure\n",
        "\n",
        "Sodium                      Maximum                              5,000 milligrams (mg)\n",
        "\n",
        "Energy                      Minimum                          2,000 Calories (kilocalories, kcal)\n",
        "\n",
        "Protein                     Minimum                                   50 grams (g)\n",
        "\n",
        "Vitamin D                   Minimum                               20 micrograms (mcg)\n",
        "\n",
        "Calcium                     Minimum                                1,300 milligrams (mg)\n",
        "\n",
        "Iron                        Minimum                               18 milligrams (mg)\n",
        "\n",
        "Potassium                   Minimum                              4,700 milligrams (mg)\n",
        "\"\"\""
      ],
      "metadata": {
        "id": "uL9iImb7F0y-",
        "colab": {
          "base_uri": "https://localhost:8080/",
          "height": 107
        },
        "outputId": "376e086a-b0de-46b5-bd90-2361d0e41c2c"
      },
      "execution_count": 57,
      "outputs": [
        {
          "output_type": "execute_result",
          "data": {
            "text/plain": [
              "'\\nComponent                    Max/Min                              Amount and measure\\n\\nSodium                      Maximum                              5,000 milligrams (mg)\\n\\nEnergy                      Minimum                          2,000 Calories (kilocalories, kcal)\\n\\nProtein                     Minimum                                   50 grams (g)\\n\\nVitamin D                   Minimum                               20 micrograms (mcg)\\n\\nCalcium                     Minimum                                1,300 milligrams (mg)\\n\\nIron                        Minimum                               18 milligrams (mg)\\n\\nPotassium                   Minimum                              4,700 milligrams (mg)\\n'"
            ],
            "application/vnd.google.colaboratory.intrinsic+json": {
              "type": "string"
            }
          },
          "metadata": {},
          "execution_count": 57
        }
      ]
    },
    {
      "cell_type": "code",
      "source": [
        "\"\"\"\n",
        "Food\n",
        "Daves killer bread.................170mg.........110kcal.....5g............0mcg vd..........0 calc.......1 mg..............100mg of k\n",
        "Once again Natural almond butter...0mg...........200kcal.....8g protein....0 g vd...........6 calc.......6 iron............4 g K.\n",
        "Nugo Dark Chocolate Protein Bar....135 mg Na.....200kcal......12g protein..0 mcg vd.........70mg c.......2.2 mg iron.......100 mg k.\n",
        "Orville redenbacher plain kernels...0mg NA.......120kcal......4g protein...0 mcg vd.........0 mg c.......0.9 mg iron.......0\n",
        "365 smoked turkey...................470 mg Na....60 kcal......12g protein..0mcg vd.........0mg c........0,7 mg iron.......0 mg k\n",
        "\"\"\""
      ],
      "metadata": {
        "colab": {
          "base_uri": "https://localhost:8080/",
          "height": 107
        },
        "id": "be8CiGdJLpY6",
        "outputId": "4d83e144-daf7-49fd-93e3-a37707f2d9c5"
      },
      "execution_count": 58,
      "outputs": [
        {
          "output_type": "execute_result",
          "data": {
            "text/plain": [
              "'\\nFood\\nDaves killer bread.................170mg.........110kcal.....5g............0mcg vd..........0 calc.......1 mg..............100mg of k\\nOnce again Natural almond butter...0mg...........200kcal.....8g protein....0 g vd...........6 calc.......6 iron............4 g K.\\nNugo Dark Chocolate Protein Bar....135 mg Na.....200kcal......12g protein..0 mcg vd.........70mg c.......2.2 mg iron.......100 mg k.\\nOrville redenbacher plain kernels...0mg NA.......120kcal......4g protein...0 mcg vd.........0 mg c.......0.9 mg iron.......0\\n365 smoked turkey...................470 mg Na....60 kcal......12g protein..0mcg vd.........0mg c........0,7 mg iron.......0 mg k\\n'"
            ],
            "application/vnd.google.colaboratory.intrinsic+json": {
              "type": "string"
            }
          },
          "metadata": {},
          "execution_count": 58
        }
      ]
    },
    {
      "cell_type": "code",
      "source": [
        "# max sodium(5,000)"
      ],
      "metadata": {
        "id": "ClqpVb76glVn"
      },
      "execution_count": 59,
      "outputs": []
    },
    {
      "cell_type": "code",
      "source": [
        "x1 = LpVariable(name=\"Daves_killer_bread\",lowBound = 0)\n",
        "x2 = LpVariable(name=\"Once_Again_Natural_Almond_butter\", lowBound=0)\n",
        "x3 = LpVariable(name=\"Nugo_Protein_bar\", lowBound=0)\n",
        "x4 = LpVariable(name=\"Plain_kernels\", lowBound=0)\n",
        "x5 = LpVariable(name=\"Turkey\", lowBound=0)\n"
      ],
      "metadata": {
        "id": "gE3DjEIhglD4"
      },
      "execution_count": 114,
      "outputs": []
    },
    {
      "cell_type": "code",
      "source": [
        "lp = LpProblem(\"The_Diet_Problem\", LpMaximize)"
      ],
      "metadata": {
        "id": "pIBywbcKglJG"
      },
      "execution_count": 115,
      "outputs": []
    },
    {
      "cell_type": "code",
      "source": [],
      "metadata": {
        "id": "GYHkxl8vZ3YF"
      },
      "execution_count": 115,
      "outputs": []
    },
    {
      "cell_type": "code",
      "source": [
        "lp += ((6.99/17) * x1) + ((13.19/15) * x2) + (1.59 * x3) + ((5.99/91) * x4) + ((4.04/3) * x5)"
      ],
      "metadata": {
        "id": "-ypWXNHQglNy"
      },
      "execution_count": 116,
      "outputs": []
    },
    {
      "cell_type": "code",
      "source": [
        "\n",
        "lp += (170 * x1) + (135 * x3) + (470 * x5) <= 5000\n",
        "lp += (110 * x1) + (200 * x2) + (200 * x3) + (120 * x4) + (60 * x5) >= 2000\n",
        "lp += (5 * x1) + (8 * x2) + (12 * x3) + (4 * x4) + (12 * x5) >= 50\n",
        "lp += (0 * x1) + (0 * x2) + (0 * x3) + (0 * x4) + (0 * x5) >= 20\n",
        "lp += (6 * x2) + (70 * x3) >= 1300\n",
        "lp += (1 * x1) + (6 * x2) + (2.2 * x3) + (0.9 * x4) + (0.7 * x5) >= 18\n",
        "lp += (100 * x1) + (4000 * x2) + (100 * x3) >= 4700\n"
      ],
      "metadata": {
        "id": "2Hqdz3yngk9n"
      },
      "execution_count": 117,
      "outputs": []
    },
    {
      "cell_type": "code",
      "source": [
        "status = lp.solve()\n",
        "print(\"status:\",status)\n",
        "# 1 is optimal"
      ],
      "metadata": {
        "colab": {
          "base_uri": "https://localhost:8080/"
        },
        "id": "K4m7jt0-gk3i",
        "outputId": "cb8ae46d-3e94-4d4a-aa23-52d270538d4c"
      },
      "execution_count": 121,
      "outputs": [
        {
          "output_type": "stream",
          "name": "stdout",
          "text": [
            "status: -1\n"
          ]
        }
      ]
    },
    {
      "cell_type": "code",
      "source": [
        "for var in lp.variables():\n",
        "    print(var, \"=\", value(var))"
      ],
      "metadata": {
        "colab": {
          "base_uri": "https://localhost:8080/"
        },
        "id": "XfIy4XYyAVbk",
        "outputId": "130b119a-14dd-4170-84a8-45318a351fb3"
      },
      "execution_count": 119,
      "outputs": [
        {
          "output_type": "stream",
          "name": "stdout",
          "text": [
            "Daves_killer_bread = 0.0\n",
            "Nugo_Protein_bar = 0.0\n",
            "Once_Again_Natural_Almond_butter = 216.66667\n",
            "Plain_kernels = 0.0\n",
            "Turkey = 10.638298\n"
          ]
        }
      ]
    },
    {
      "cell_type": "code",
      "source": [
        "print(\"OPT =\", value(lp.objective))"
      ],
      "metadata": {
        "colab": {
          "base_uri": "https://localhost:8080/"
        },
        "id": "K-7R5zmACwFj",
        "outputId": "6f5ab1ca-751f-432b-f3c5-7f797c53b6bc"
      },
      "execution_count": 120,
      "outputs": [
        {
          "output_type": "stream",
          "name": "stdout",
          "text": [
            "OPT = 204.84846646\n"
          ]
        }
      ]
    },
    {
      "cell_type": "code",
      "source": [
        "# Vitamin A & C as constraints\n",
        "lp += (1 * x1) + (6 * x2) + (2.2 * x3) + (0.9 * x4) + (0.7 * x5) <= 900\n",
        "lp += (1 * x1) + (6 * x2) + (2.2 * x3) + (0.9 * x4) + (0.7 * x5) <= 90"
      ],
      "metadata": {
        "id": "pbHew1Rqg-7N"
      },
      "execution_count": null,
      "outputs": []
    },
    {
      "cell_type": "code",
      "source": [],
      "metadata": {
        "id": "m8Oheviyg-07"
      },
      "execution_count": null,
      "outputs": []
    },
    {
      "cell_type": "code",
      "source": [],
      "metadata": {
        "id": "8EiJu-IYg-vN"
      },
      "execution_count": null,
      "outputs": []
    },
    {
      "cell_type": "code",
      "source": [],
      "metadata": {
        "id": "JPSN-G3ng-h5"
      },
      "execution_count": null,
      "outputs": []
    }
  ]
}